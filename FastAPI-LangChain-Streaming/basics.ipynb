{
 "cells": [
  {
   "cell_type": "code",
   "execution_count": 2,
   "metadata": {},
   "outputs": [],
   "source": [
    "from langchain_core.output_parsers import StrOutputParser\n",
    "from langchain_core.prompts import ChatPromptTemplate\n",
    "from langchain_openai import ChatOpenAI\n",
    "from dotenv import load_dotenv\n",
    "\n",
    "load_dotenv()\n",
    "\n",
    "model = ChatOpenAI(temperature=0, streaming=True)\n",
    "prompt = ChatPromptTemplate.from_template(\"tell me a joke about {topic}. 200 Words\")\n",
    "parser = StrOutputParser()\n",
    "chain = prompt | model | parser"
   ]
  },
  {
   "cell_type": "code",
   "execution_count": 3,
   "metadata": {},
   "outputs": [
    {
     "name": "stdout",
     "output_type": "stream",
     "text": [
      "Why did the parrot wear a raincoat?\n",
      "\n",
      "Because he wanted to be polyunsaturated!\n",
      "\n",
      "Why did the parrot sit on the clock?\n",
      "\n",
      "Because he wanted to be on \"time\"!\n",
      "\n",
      "Why did the parrot go to the doctor?\n",
      "\n",
      "Because he was feeling a little \"tweet\"!\n",
      "\n",
      "Why did the parrot join the circus?\n",
      "\n",
      "Because he wanted to be a \"bird\" performer!\n",
      "\n",
      "Why did the parrot bring a ladder to the bar?\n",
      "\n",
      "Because he heard the drinks were on the house!\n",
      "\n",
      "Why did the parrot go to school?\n",
      "\n",
      "Because he wanted to be a \"smarty beak\"!\n",
      "\n",
      "Why did the parrot refuse to eat his vegetables?\n",
      "\n",
      "Because he was on a \"seed-only\" diet!\n",
      "\n",
      "Why did the parrot start a band?\n",
      "\n",
      "Because he had a \"tweet\" for music!\n",
      "\n",
      "Why did the parrot go to the beach?\n",
      "\n",
      "Because he wanted to be a \"shore\" thing!\n",
      "\n",
      "Why did the parrot become a detective?\n",
      "\n",
      "Because he had a knack for \"cracking\" cases!"
     ]
    }
   ],
   "source": [
    "for chunk in chain.stream(\"parrot\"):\n",
    "    print(chunk, end=\"\", flush=True)"
   ]
  },
  {
   "cell_type": "code",
   "execution_count": 4,
   "metadata": {},
   "outputs": [
    {
     "name": "stdout",
     "output_type": "stream",
     "text": [
      "Why did the parrot wear a raincoat?\n",
      "\n",
      "Because he wanted to be polyunsaturated!\n",
      "\n",
      "Parrots are known for their ability to mimic human speech and sounds, but did you know they also have a great sense of humor? One day, a man walked into a pet store looking to buy a parrot. The store owner showed him a beautiful green parrot that could talk and sing. The man was impressed and decided to buy the parrot.\n",
      "\n",
      "When he got home, he quickly realized that the parrot had a mischievous side. Every time the man would try to have a serious conversation, the parrot would interrupt with a joke or a funny noise. The man found it both frustrating and hilarious at the same time.\n",
      "\n",
      "One day, the man's friends came over for a visit, and the parrot decided to show off his comedic skills. He told joke after joke, making everyone laugh until they cried. The man couldn't believe how funny his parrot was and was grateful for the joy and laughter he brought into his home.\n",
      "\n",
      "From that day on, the man and his parrot became the life of the party, spreading laughter wherever they went. And it all started with a simple purchase at the pet store."
     ]
    }
   ],
   "source": [
    "async for chunk in chain.astream(\"parrot\"):\n",
    "    print(chunk, end=\"\", flush=True)"
   ]
  },
  {
   "cell_type": "markdown",
   "metadata": {},
   "source": [
    "Events"
   ]
  },
  {
   "cell_type": "code",
   "execution_count": 5,
   "metadata": {},
   "outputs": [
    {
     "name": "stdout",
     "output_type": "stream",
     "text": [
      "{'event': 'on_chat_model_start', 'run_id': '3fa0dd3d-3a0c-452f-9229-681005d0c34e', 'name': 'ChatOpenAI', 'tags': [], 'metadata': {}, 'data': {'input': 'parrot'}, 'parent_ids': []}\n"
     ]
    },
    {
     "name": "stderr",
     "output_type": "stream",
     "text": [
      "e:\\langchain_llm_app\\.venv\\Lib\\site-packages\\langchain_core\\_api\\beta_decorator.py:87: LangChainBetaWarning: This API is in beta and may change in the future.\n",
      "  warn_beta(\n"
     ]
    },
    {
     "name": "stdout",
     "output_type": "stream",
     "text": [
      "{'event': 'on_chat_model_stream', 'run_id': '3fa0dd3d-3a0c-452f-9229-681005d0c34e', 'tags': [], 'metadata': {}, 'name': 'ChatOpenAI', 'data': {'chunk': AIMessageChunk(content='', id='run-3fa0dd3d-3a0c-452f-9229-681005d0c34e')}, 'parent_ids': []}\n",
      "{'event': 'on_chat_model_stream', 'run_id': '3fa0dd3d-3a0c-452f-9229-681005d0c34e', 'tags': [], 'metadata': {}, 'name': 'ChatOpenAI', 'data': {'chunk': AIMessageChunk(content='A', id='run-3fa0dd3d-3a0c-452f-9229-681005d0c34e')}, 'parent_ids': []}\n",
      "{'event': 'on_chat_model_stream', 'run_id': '3fa0dd3d-3a0c-452f-9229-681005d0c34e', 'tags': [], 'metadata': {}, 'name': 'ChatOpenAI', 'data': {'chunk': AIMessageChunk(content=' par', id='run-3fa0dd3d-3a0c-452f-9229-681005d0c34e')}, 'parent_ids': []}\n",
      "{'event': 'on_chat_model_stream', 'run_id': '3fa0dd3d-3a0c-452f-9229-681005d0c34e', 'tags': [], 'metadata': {}, 'name': 'ChatOpenAI', 'data': {'chunk': AIMessageChunk(content='rot', id='run-3fa0dd3d-3a0c-452f-9229-681005d0c34e')}, 'parent_ids': []}\n",
      "{'event': 'on_chat_model_stream', 'run_id': '3fa0dd3d-3a0c-452f-9229-681005d0c34e', 'tags': [], 'metadata': {}, 'name': 'ChatOpenAI', 'data': {'chunk': AIMessageChunk(content=' is', id='run-3fa0dd3d-3a0c-452f-9229-681005d0c34e')}, 'parent_ids': []}\n",
      "{'event': 'on_chat_model_stream', 'run_id': '3fa0dd3d-3a0c-452f-9229-681005d0c34e', 'tags': [], 'metadata': {}, 'name': 'ChatOpenAI', 'data': {'chunk': AIMessageChunk(content=' a', id='run-3fa0dd3d-3a0c-452f-9229-681005d0c34e')}, 'parent_ids': []}\n",
      "{'event': 'on_chat_model_stream', 'run_id': '3fa0dd3d-3a0c-452f-9229-681005d0c34e', 'tags': [], 'metadata': {}, 'name': 'ChatOpenAI', 'data': {'chunk': AIMessageChunk(content=' type', id='run-3fa0dd3d-3a0c-452f-9229-681005d0c34e')}, 'parent_ids': []}\n",
      "{'event': 'on_chat_model_stream', 'run_id': '3fa0dd3d-3a0c-452f-9229-681005d0c34e', 'tags': [], 'metadata': {}, 'name': 'ChatOpenAI', 'data': {'chunk': AIMessageChunk(content=' of', id='run-3fa0dd3d-3a0c-452f-9229-681005d0c34e')}, 'parent_ids': []}\n",
      "{'event': 'on_chat_model_stream', 'run_id': '3fa0dd3d-3a0c-452f-9229-681005d0c34e', 'tags': [], 'metadata': {}, 'name': 'ChatOpenAI', 'data': {'chunk': AIMessageChunk(content=' bird', id='run-3fa0dd3d-3a0c-452f-9229-681005d0c34e')}, 'parent_ids': []}\n",
      "{'event': 'on_chat_model_stream', 'run_id': '3fa0dd3d-3a0c-452f-9229-681005d0c34e', 'tags': [], 'metadata': {}, 'name': 'ChatOpenAI', 'data': {'chunk': AIMessageChunk(content=' known', id='run-3fa0dd3d-3a0c-452f-9229-681005d0c34e')}, 'parent_ids': []}\n",
      "{'event': 'on_chat_model_stream', 'run_id': '3fa0dd3d-3a0c-452f-9229-681005d0c34e', 'tags': [], 'metadata': {}, 'name': 'ChatOpenAI', 'data': {'chunk': AIMessageChunk(content=' for', id='run-3fa0dd3d-3a0c-452f-9229-681005d0c34e')}, 'parent_ids': []}\n",
      "{'event': 'on_chat_model_stream', 'run_id': '3fa0dd3d-3a0c-452f-9229-681005d0c34e', 'tags': [], 'metadata': {}, 'name': 'ChatOpenAI', 'data': {'chunk': AIMessageChunk(content=' its', id='run-3fa0dd3d-3a0c-452f-9229-681005d0c34e')}, 'parent_ids': []}\n",
      "{'event': 'on_chat_model_stream', 'run_id': '3fa0dd3d-3a0c-452f-9229-681005d0c34e', 'tags': [], 'metadata': {}, 'name': 'ChatOpenAI', 'data': {'chunk': AIMessageChunk(content=' colorful', id='run-3fa0dd3d-3a0c-452f-9229-681005d0c34e')}, 'parent_ids': []}\n",
      "{'event': 'on_chat_model_stream', 'run_id': '3fa0dd3d-3a0c-452f-9229-681005d0c34e', 'tags': [], 'metadata': {}, 'name': 'ChatOpenAI', 'data': {'chunk': AIMessageChunk(content=' feathers', id='run-3fa0dd3d-3a0c-452f-9229-681005d0c34e')}, 'parent_ids': []}\n",
      "{'event': 'on_chat_model_stream', 'run_id': '3fa0dd3d-3a0c-452f-9229-681005d0c34e', 'tags': [], 'metadata': {}, 'name': 'ChatOpenAI', 'data': {'chunk': AIMessageChunk(content=',', id='run-3fa0dd3d-3a0c-452f-9229-681005d0c34e')}, 'parent_ids': []}\n",
      "{'event': 'on_chat_model_stream', 'run_id': '3fa0dd3d-3a0c-452f-9229-681005d0c34e', 'tags': [], 'metadata': {}, 'name': 'ChatOpenAI', 'data': {'chunk': AIMessageChunk(content=' ability', id='run-3fa0dd3d-3a0c-452f-9229-681005d0c34e')}, 'parent_ids': []}\n",
      "{'event': 'on_chat_model_stream', 'run_id': '3fa0dd3d-3a0c-452f-9229-681005d0c34e', 'tags': [], 'metadata': {}, 'name': 'ChatOpenAI', 'data': {'chunk': AIMessageChunk(content=' to', id='run-3fa0dd3d-3a0c-452f-9229-681005d0c34e')}, 'parent_ids': []}\n",
      "{'event': 'on_chat_model_stream', 'run_id': '3fa0dd3d-3a0c-452f-9229-681005d0c34e', 'tags': [], 'metadata': {}, 'name': 'ChatOpenAI', 'data': {'chunk': AIMessageChunk(content=' mimic', id='run-3fa0dd3d-3a0c-452f-9229-681005d0c34e')}, 'parent_ids': []}\n",
      "{'event': 'on_chat_model_stream', 'run_id': '3fa0dd3d-3a0c-452f-9229-681005d0c34e', 'tags': [], 'metadata': {}, 'name': 'ChatOpenAI', 'data': {'chunk': AIMessageChunk(content=' sounds', id='run-3fa0dd3d-3a0c-452f-9229-681005d0c34e')}, 'parent_ids': []}\n",
      "{'event': 'on_chat_model_stream', 'run_id': '3fa0dd3d-3a0c-452f-9229-681005d0c34e', 'tags': [], 'metadata': {}, 'name': 'ChatOpenAI', 'data': {'chunk': AIMessageChunk(content=',', id='run-3fa0dd3d-3a0c-452f-9229-681005d0c34e')}, 'parent_ids': []}\n",
      "{'event': 'on_chat_model_stream', 'run_id': '3fa0dd3d-3a0c-452f-9229-681005d0c34e', 'tags': [], 'metadata': {}, 'name': 'ChatOpenAI', 'data': {'chunk': AIMessageChunk(content=' and', id='run-3fa0dd3d-3a0c-452f-9229-681005d0c34e')}, 'parent_ids': []}\n",
      "{'event': 'on_chat_model_stream', 'run_id': '3fa0dd3d-3a0c-452f-9229-681005d0c34e', 'tags': [], 'metadata': {}, 'name': 'ChatOpenAI', 'data': {'chunk': AIMessageChunk(content=' intelligence', id='run-3fa0dd3d-3a0c-452f-9229-681005d0c34e')}, 'parent_ids': []}\n",
      "{'event': 'on_chat_model_stream', 'run_id': '3fa0dd3d-3a0c-452f-9229-681005d0c34e', 'tags': [], 'metadata': {}, 'name': 'ChatOpenAI', 'data': {'chunk': AIMessageChunk(content='.', id='run-3fa0dd3d-3a0c-452f-9229-681005d0c34e')}, 'parent_ids': []}\n",
      "{'event': 'on_chat_model_stream', 'run_id': '3fa0dd3d-3a0c-452f-9229-681005d0c34e', 'tags': [], 'metadata': {}, 'name': 'ChatOpenAI', 'data': {'chunk': AIMessageChunk(content=' They', id='run-3fa0dd3d-3a0c-452f-9229-681005d0c34e')}, 'parent_ids': []}\n",
      "{'event': 'on_chat_model_stream', 'run_id': '3fa0dd3d-3a0c-452f-9229-681005d0c34e', 'tags': [], 'metadata': {}, 'name': 'ChatOpenAI', 'data': {'chunk': AIMessageChunk(content=' are', id='run-3fa0dd3d-3a0c-452f-9229-681005d0c34e')}, 'parent_ids': []}\n",
      "{'event': 'on_chat_model_stream', 'run_id': '3fa0dd3d-3a0c-452f-9229-681005d0c34e', 'tags': [], 'metadata': {}, 'name': 'ChatOpenAI', 'data': {'chunk': AIMessageChunk(content=' often', id='run-3fa0dd3d-3a0c-452f-9229-681005d0c34e')}, 'parent_ids': []}\n",
      "{'event': 'on_chat_model_stream', 'run_id': '3fa0dd3d-3a0c-452f-9229-681005d0c34e', 'tags': [], 'metadata': {}, 'name': 'ChatOpenAI', 'data': {'chunk': AIMessageChunk(content=' kept', id='run-3fa0dd3d-3a0c-452f-9229-681005d0c34e')}, 'parent_ids': []}\n",
      "{'event': 'on_chat_model_stream', 'run_id': '3fa0dd3d-3a0c-452f-9229-681005d0c34e', 'tags': [], 'metadata': {}, 'name': 'ChatOpenAI', 'data': {'chunk': AIMessageChunk(content=' as', id='run-3fa0dd3d-3a0c-452f-9229-681005d0c34e')}, 'parent_ids': []}\n",
      "{'event': 'on_chat_model_stream', 'run_id': '3fa0dd3d-3a0c-452f-9229-681005d0c34e', 'tags': [], 'metadata': {}, 'name': 'ChatOpenAI', 'data': {'chunk': AIMessageChunk(content=' pets', id='run-3fa0dd3d-3a0c-452f-9229-681005d0c34e')}, 'parent_ids': []}\n",
      "{'event': 'on_chat_model_stream', 'run_id': '3fa0dd3d-3a0c-452f-9229-681005d0c34e', 'tags': [], 'metadata': {}, 'name': 'ChatOpenAI', 'data': {'chunk': AIMessageChunk(content=' and', id='run-3fa0dd3d-3a0c-452f-9229-681005d0c34e')}, 'parent_ids': []}\n",
      "{'event': 'on_chat_model_stream', 'run_id': '3fa0dd3d-3a0c-452f-9229-681005d0c34e', 'tags': [], 'metadata': {}, 'name': 'ChatOpenAI', 'data': {'chunk': AIMessageChunk(content=' can', id='run-3fa0dd3d-3a0c-452f-9229-681005d0c34e')}, 'parent_ids': []}\n",
      "{'event': 'on_chat_model_stream', 'run_id': '3fa0dd3d-3a0c-452f-9229-681005d0c34e', 'tags': [], 'metadata': {}, 'name': 'ChatOpenAI', 'data': {'chunk': AIMessageChunk(content=' be', id='run-3fa0dd3d-3a0c-452f-9229-681005d0c34e')}, 'parent_ids': []}\n",
      "{'event': 'on_chat_model_stream', 'run_id': '3fa0dd3d-3a0c-452f-9229-681005d0c34e', 'tags': [], 'metadata': {}, 'name': 'ChatOpenAI', 'data': {'chunk': AIMessageChunk(content=' trained', id='run-3fa0dd3d-3a0c-452f-9229-681005d0c34e')}, 'parent_ids': []}\n",
      "{'event': 'on_chat_model_stream', 'run_id': '3fa0dd3d-3a0c-452f-9229-681005d0c34e', 'tags': [], 'metadata': {}, 'name': 'ChatOpenAI', 'data': {'chunk': AIMessageChunk(content=' to', id='run-3fa0dd3d-3a0c-452f-9229-681005d0c34e')}, 'parent_ids': []}\n",
      "{'event': 'on_chat_model_stream', 'run_id': '3fa0dd3d-3a0c-452f-9229-681005d0c34e', 'tags': [], 'metadata': {}, 'name': 'ChatOpenAI', 'data': {'chunk': AIMessageChunk(content=' talk', id='run-3fa0dd3d-3a0c-452f-9229-681005d0c34e')}, 'parent_ids': []}\n",
      "{'event': 'on_chat_model_stream', 'run_id': '3fa0dd3d-3a0c-452f-9229-681005d0c34e', 'tags': [], 'metadata': {}, 'name': 'ChatOpenAI', 'data': {'chunk': AIMessageChunk(content=' and', id='run-3fa0dd3d-3a0c-452f-9229-681005d0c34e')}, 'parent_ids': []}\n",
      "{'event': 'on_chat_model_stream', 'run_id': '3fa0dd3d-3a0c-452f-9229-681005d0c34e', 'tags': [], 'metadata': {}, 'name': 'ChatOpenAI', 'data': {'chunk': AIMessageChunk(content=' perform', id='run-3fa0dd3d-3a0c-452f-9229-681005d0c34e')}, 'parent_ids': []}\n",
      "{'event': 'on_chat_model_stream', 'run_id': '3fa0dd3d-3a0c-452f-9229-681005d0c34e', 'tags': [], 'metadata': {}, 'name': 'ChatOpenAI', 'data': {'chunk': AIMessageChunk(content=' tricks', id='run-3fa0dd3d-3a0c-452f-9229-681005d0c34e')}, 'parent_ids': []}\n",
      "{'event': 'on_chat_model_stream', 'run_id': '3fa0dd3d-3a0c-452f-9229-681005d0c34e', 'tags': [], 'metadata': {}, 'name': 'ChatOpenAI', 'data': {'chunk': AIMessageChunk(content='.', id='run-3fa0dd3d-3a0c-452f-9229-681005d0c34e')}, 'parent_ids': []}\n",
      "{'event': 'on_chat_model_stream', 'run_id': '3fa0dd3d-3a0c-452f-9229-681005d0c34e', 'tags': [], 'metadata': {}, 'name': 'ChatOpenAI', 'data': {'chunk': AIMessageChunk(content=' Par', id='run-3fa0dd3d-3a0c-452f-9229-681005d0c34e')}, 'parent_ids': []}\n",
      "{'event': 'on_chat_model_stream', 'run_id': '3fa0dd3d-3a0c-452f-9229-681005d0c34e', 'tags': [], 'metadata': {}, 'name': 'ChatOpenAI', 'data': {'chunk': AIMessageChunk(content='rots', id='run-3fa0dd3d-3a0c-452f-9229-681005d0c34e')}, 'parent_ids': []}\n",
      "{'event': 'on_chat_model_stream', 'run_id': '3fa0dd3d-3a0c-452f-9229-681005d0c34e', 'tags': [], 'metadata': {}, 'name': 'ChatOpenAI', 'data': {'chunk': AIMessageChunk(content=' are', id='run-3fa0dd3d-3a0c-452f-9229-681005d0c34e')}, 'parent_ids': []}\n",
      "{'event': 'on_chat_model_stream', 'run_id': '3fa0dd3d-3a0c-452f-9229-681005d0c34e', 'tags': [], 'metadata': {}, 'name': 'ChatOpenAI', 'data': {'chunk': AIMessageChunk(content=' found', id='run-3fa0dd3d-3a0c-452f-9229-681005d0c34e')}, 'parent_ids': []}\n",
      "{'event': 'on_chat_model_stream', 'run_id': '3fa0dd3d-3a0c-452f-9229-681005d0c34e', 'tags': [], 'metadata': {}, 'name': 'ChatOpenAI', 'data': {'chunk': AIMessageChunk(content=' in', id='run-3fa0dd3d-3a0c-452f-9229-681005d0c34e')}, 'parent_ids': []}\n",
      "{'event': 'on_chat_model_stream', 'run_id': '3fa0dd3d-3a0c-452f-9229-681005d0c34e', 'tags': [], 'metadata': {}, 'name': 'ChatOpenAI', 'data': {'chunk': AIMessageChunk(content=' tropical', id='run-3fa0dd3d-3a0c-452f-9229-681005d0c34e')}, 'parent_ids': []}\n",
      "{'event': 'on_chat_model_stream', 'run_id': '3fa0dd3d-3a0c-452f-9229-681005d0c34e', 'tags': [], 'metadata': {}, 'name': 'ChatOpenAI', 'data': {'chunk': AIMessageChunk(content=' and', id='run-3fa0dd3d-3a0c-452f-9229-681005d0c34e')}, 'parent_ids': []}\n",
      "{'event': 'on_chat_model_stream', 'run_id': '3fa0dd3d-3a0c-452f-9229-681005d0c34e', 'tags': [], 'metadata': {}, 'name': 'ChatOpenAI', 'data': {'chunk': AIMessageChunk(content=' subt', id='run-3fa0dd3d-3a0c-452f-9229-681005d0c34e')}, 'parent_ids': []}\n",
      "{'event': 'on_chat_model_stream', 'run_id': '3fa0dd3d-3a0c-452f-9229-681005d0c34e', 'tags': [], 'metadata': {}, 'name': 'ChatOpenAI', 'data': {'chunk': AIMessageChunk(content='ropical', id='run-3fa0dd3d-3a0c-452f-9229-681005d0c34e')}, 'parent_ids': []}\n",
      "{'event': 'on_chat_model_stream', 'run_id': '3fa0dd3d-3a0c-452f-9229-681005d0c34e', 'tags': [], 'metadata': {}, 'name': 'ChatOpenAI', 'data': {'chunk': AIMessageChunk(content=' regions', id='run-3fa0dd3d-3a0c-452f-9229-681005d0c34e')}, 'parent_ids': []}\n",
      "{'event': 'on_chat_model_stream', 'run_id': '3fa0dd3d-3a0c-452f-9229-681005d0c34e', 'tags': [], 'metadata': {}, 'name': 'ChatOpenAI', 'data': {'chunk': AIMessageChunk(content=' around', id='run-3fa0dd3d-3a0c-452f-9229-681005d0c34e')}, 'parent_ids': []}\n",
      "{'event': 'on_chat_model_stream', 'run_id': '3fa0dd3d-3a0c-452f-9229-681005d0c34e', 'tags': [], 'metadata': {}, 'name': 'ChatOpenAI', 'data': {'chunk': AIMessageChunk(content=' the', id='run-3fa0dd3d-3a0c-452f-9229-681005d0c34e')}, 'parent_ids': []}\n",
      "{'event': 'on_chat_model_stream', 'run_id': '3fa0dd3d-3a0c-452f-9229-681005d0c34e', 'tags': [], 'metadata': {}, 'name': 'ChatOpenAI', 'data': {'chunk': AIMessageChunk(content=' world', id='run-3fa0dd3d-3a0c-452f-9229-681005d0c34e')}, 'parent_ids': []}\n",
      "{'event': 'on_chat_model_stream', 'run_id': '3fa0dd3d-3a0c-452f-9229-681005d0c34e', 'tags': [], 'metadata': {}, 'name': 'ChatOpenAI', 'data': {'chunk': AIMessageChunk(content='.', id='run-3fa0dd3d-3a0c-452f-9229-681005d0c34e')}, 'parent_ids': []}\n",
      "{'event': 'on_chat_model_stream', 'run_id': '3fa0dd3d-3a0c-452f-9229-681005d0c34e', 'tags': [], 'metadata': {}, 'name': 'ChatOpenAI', 'data': {'chunk': AIMessageChunk(content='', response_metadata={'finish_reason': 'stop'}, id='run-3fa0dd3d-3a0c-452f-9229-681005d0c34e')}, 'parent_ids': []}\n",
      "{'event': 'on_chat_model_end', 'name': 'ChatOpenAI', 'run_id': '3fa0dd3d-3a0c-452f-9229-681005d0c34e', 'tags': [], 'metadata': {}, 'data': {'output': AIMessageChunk(content='A parrot is a type of bird known for its colorful feathers, ability to mimic sounds, and intelligence. They are often kept as pets and can be trained to talk and perform tricks. Parrots are found in tropical and subtropical regions around the world.', response_metadata={'finish_reason': 'stop'}, id='run-3fa0dd3d-3a0c-452f-9229-681005d0c34e')}, 'parent_ids': []}\n"
     ]
    }
   ],
   "source": [
    "async for event in model.astream_events(\"parrot\", version=\"v1\"):\n",
    "    print(event, flush=True)"
   ]
  },
  {
   "cell_type": "code",
   "execution_count": 6,
   "metadata": {},
   "outputs": [
    {
     "name": "stdout",
     "output_type": "stream",
     "text": [
      "Unique event types: {'on_chat_model_stream', 'on_chat_model_start', 'on_chat_model_end'}\n"
     ]
    }
   ],
   "source": [
    "events = []\n",
    "async for event in model.astream_events(\"parrot\", version=\"v1\"):\n",
    "    events.append(event)\n",
    "event_types = {event[\"event\"] for event in events}\n",
    "print(\"Unique event types:\", event_types)"
   ]
  },
  {
   "cell_type": "code",
   "execution_count": 7,
   "metadata": {},
   "outputs": [
    {
     "name": "stdout",
     "output_type": "stream",
     "text": [
      "Stream started...\n",
      "A parrot is a type of bird known for its colorful feathers, ability to mimic sounds, and intelligence. They are often kept as pets and can be trained to talk and perform tricks. Parrots are found in tropical and subtropical regions around the world."
     ]
    },
    {
     "ename": "",
     "evalue": "",
     "output_type": "error",
     "traceback": [
      "\u001b[1;31mThe Kernel crashed while executing code in the current cell or a previous cell. \n",
      "\u001b[1;31mPlease review the code in the cell(s) to identify a possible cause of the failure. \n",
      "\u001b[1;31mClick <a href='https://aka.ms/vscodeJupyterKernelCrash'>here</a> for more info. \n",
      "\u001b[1;31mView Jupyter <a href='command:jupyter.viewOutput'>log</a> for further details."
     ]
    }
   ],
   "source": [
    "async for event in model.astream_events(\"parrot\", version=\"v1\"):\n",
    "    if event[\"event\"] == \"on_chat_model_start\":\n",
    "        print(\"Stream started...\", flush=True)\n",
    "    elif event[\"event\"] == \"on_chat_model_stream\":\n",
    "        print(event[\"data\"][\"chunk\"].content, end=\"\", flush=True)"
   ]
  },
  {
   "cell_type": "code",
   "execution_count": null,
   "metadata": {},
   "outputs": [],
   "source": []
  }
 ],
 "metadata": {
  "kernelspec": {
   "display_name": "app",
   "language": "python",
   "name": "python3"
  },
  "language_info": {
   "codemirror_mode": {
    "name": "ipython",
    "version": 3
   },
   "file_extension": ".py",
   "mimetype": "text/x-python",
   "name": "python",
   "nbconvert_exporter": "python",
   "pygments_lexer": "ipython3",
   "version": "3.11.5"
  }
 },
 "nbformat": 4,
 "nbformat_minor": 2
}
